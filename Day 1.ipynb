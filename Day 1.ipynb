{
 "metadata": {
  "name": "Day 1"
 },
 "nbformat": 3,
 "nbformat_minor": 0,
 "worksheets": [
  {
   "cells": [
    {
     "cell_type": "markdown",
     "metadata": {},
     "source": [
      "# Introduction to Scientific Programming with python\n",
      "\n",
      "# Session 1: Basics\n",
      "(based on slides by Loic Matthey, UCL Graduate School)"
     ]
    },
    {
     "cell_type": "markdown",
     "metadata": {},
     "source": [
      "## Agenda\n",
      "\n",
      "* Brief overview of the course\n",
      "* Python installation\n",
      "* Basic elements of Python programming\n",
      "* Python as a calculator\n",
      "* Working with strings\n",
      "* Working with lists\n"
     ]
    },
    {
     "cell_type": "markdown",
     "metadata": {},
     "source": [
      "## Introduction\n",
      "\n",
      "### Things to know about programming\n",
      "\n",
      "* programming is not science\n",
      "* programming is a skill\n",
      "* programming takes a long time to master (longer than this week!)\n",
      "* programming is a tool commonly used by scientists, engineers and artists\n"
     ]
    },
    {
     "cell_type": "markdown",
     "metadata": {},
     "source": [
      "### What is programming?\n",
      "\n",
      "* The process of creating computer programs.\n",
      "* Everything running on your computer is a program.\n",
      "* Every program is a piece of specifically written text, called the \"source code\".\n",
      "* Programming is simply writting text, which will get executed by your computer.\n",
      "\n",
      "### When is programming useful?\n",
      "\n",
      "* Automating a task, when they are repetitive or error prone\n",
      "* Analysing data, creating plots automatically\n",
      "* Mathematics/simulation heavy tasks\n",
      "\n"
     ]
    },
    {
     "cell_type": "markdown",
     "metadata": {},
     "source": [
      "### What is Python?\n",
      "\n",
      "* Created to be general-purpose, high-level programming language.\n",
      "* A \"fun to use\" language, hence named after Monty Python\u2019s Flying Circus\n",
      "* Combines \"remarkable power with very clear syntax\" and provides a large and comprehensive standard library\n",
      "    * The \"standard library\" is a collection of code already written and directly available to you.\n",
      "    * That\u2019s a good thing: it means people have written code for most applications you could be thinking of.\n",
      "\n",
      "* Multi-paradigm programming language permitting several styles:\n",
      "    * object-oriented\n",
      "    * structured\n",
      "    * functional\n",
      "    * aspect-oriented\n",
      "* Application domains: web development, database access,\n",
      "desktop GUIs, education, scientific and numeric computing,\n",
      "network programming, game and 3D graphics\n",
      "\n"
     ]
    },
    {
     "cell_type": "markdown",
     "metadata": {},
     "source": [
      "### Why learn Python?\n",
      "\n",
      "* very clear and readable syntax\n",
      "* extensive standard libraries and modules for virtually every task\n",
      "* high-level, easy to use datatypes, such as flexible arrays and dictionaries\n",
      "* interpreted language - no compilation is necessary\n",
      "* Easy to switch to another language later\n",
      "\n",
      "### I know Matlab, why Python?\n",
      "\n",
      "* Free.\n",
      "* More versatile, you can use it for different applications.\n",
      "* Input and output file manipulation better in Python. \n",
      "* Speedwise, they are about the same (when using Numpy/Scipy appropriately)\n"
     ]
    },
    {
     "cell_type": "markdown",
     "metadata": {},
     "source": [
      "### Python installation\n",
      "* Refer to the provided handout for more details.\n",
      "* We are using a distribution specially aimed at scientific computing and data processing: Enthought Canopy\n",
      "([http://www.enthought.com](http://www.enthought.com)).\n",
      "* To run Python, type python in your command shell.\n",
      "* To quit Python, \n",
      "    * type Ctrl + D (on mac or linux)\n",
      "    * Ctrl + Z (on Windows), or simply type quit().\n"
     ]
    },
    {
     "cell_type": "markdown",
     "metadata": {},
     "source": [
      "### HELP!\n",
      "\n",
      "* type `help()`, e.g. `help(sum)` will tell you how to use the Python function called `sum`\n",
      "* the official Python website: [www.python.org](www.python.org), and tutorial: [docs.python.org/tutorial](docs.python.org/tutorial)\n",
      "* attend one of the PyCon conferences, e.g. PyCon UK\n"
     ]
    },
    {
     "cell_type": "markdown",
     "metadata": {},
     "source": [
      "### Python interpreter\n",
      "\n",
      "* A better option when using Python is to launch `ipython`\n",
      "* It is a slightly changed interpreter, containing multiple tweaks and modifications to make your life easier.\n",
      "    * For example, it has colors by default, \n",
      "    * a great history,\n",
      "    * command completion\n",
      "    * and a way to launch scripts directly from it (%run, more on scripts later)\n",
      "\n",
      "* help/ documentation:\n",
      "    * typing `?` behind a function is an alias for `help()`, e.g.: `sum?` is the same as `help(sum)`. \n",
      "    * typing `??` behind a function shows the source code of the function\n",
      "\n",
      "### Ipython Notebook\n",
      "* This page is a rendered (static) version of an IPython notebook.\n",
      "* interactive script environment inspired by Mathematica notebooks, that is run in a webbrowser\n",
      "* allows to write text, $LaTeX$ equations (something like $\\sqrt\\frac{3}{x}$), together with python code\n",
      "* very good way to do quick, but organized prototyping and developping\n",
      "* to start the ipython notebook interface launch it with `ipython notebook` in the terminal, this will:\n",
      "    * start an IPython kernel and a local http server that hosts the session locally\n",
      "    * open a webbrowser showing you the IPython notebooks in the folder you ran the command from\n",
      "    * then you can organize your notebooks with the web-browser and do all development\n"
     ]
    },
    {
     "cell_type": "markdown",
     "metadata": {},
     "source": [
      "## Python basics\n",
      "* the interpreter acts as a simple calculator, e.g."
     ]
    },
    {
     "cell_type": "code",
     "collapsed": false,
     "input": [
      "2 + 2"
     ],
     "language": "python",
     "metadata": {},
     "outputs": [
      {
       "output_type": "pyout",
       "prompt_number": 1,
       "text": [
        "4"
       ]
      }
     ],
     "prompt_number": 1
    },
    {
     "cell_type": "markdown",
     "metadata": {},
     "source": [
      "* parentheses can be used for grouping, e.g."
     ]
    },
    {
     "cell_type": "code",
     "collapsed": false,
     "input": [
      "(50 - 5*6)/4"
     ],
     "language": "python",
     "metadata": {},
     "outputs": [
      {
       "output_type": "pyout",
       "prompt_number": 2,
       "text": [
        "5"
       ]
      }
     ],
     "prompt_number": 2
    },
    {
     "cell_type": "markdown",
     "metadata": {},
     "source": [
      "* integer division returns the floor:"
     ]
    },
    {
     "cell_type": "code",
     "collapsed": false,
     "input": [
      "7/3"
     ],
     "language": "python",
     "metadata": {},
     "outputs": [
      {
       "output_type": "pyout",
       "prompt_number": 3,
       "text": [
        "2"
       ]
      }
     ],
     "prompt_number": 3
    },
    {
     "cell_type": "markdown",
     "metadata": {},
     "source": [
      "* if one of the operands is a float, then the remaining operands will automatically be converted into floats, e.g.\n"
     ]
    },
    {
     "cell_type": "code",
     "collapsed": false,
     "input": [
      "7.0 / 2"
     ],
     "language": "python",
     "metadata": {},
     "outputs": [
      {
       "output_type": "pyout",
       "prompt_number": 4,
       "text": [
        "3.5"
       ]
      }
     ],
     "prompt_number": 4
    },
    {
     "cell_type": "markdown",
     "metadata": {},
     "source": [
      "### Operations\n",
      "<table>\n",
      "<tr>\n",
      "<th>Operator</th>\n",
      "<th>Operation</th>\n",
      "</tr>\n",
      "<tr>\n",
      "<td>+</td>\n",
      "<td>plus</td>\n",
      "</tr>\n",
      "<tr>\n",
      "<td>-</td>\n",
      "<td>minus</td>\n",
      "</tr>\n",
      "<tr>\n",
      "<td>*</td>\n",
      "<td>multiplication</td>\n",
      "</tr>\n",
      "<tr>\n",
      "<td>/</td>\n",
      "<td>division</td>\n",
      "</tr>\n",
      "<tr>\n",
      "<td>**</td>\n",
      "<td>power (not ^ as in some other languages)</td>\n",
      "</tr>\n",
      "<tr>\n",
      "<td>%</td>\n",
      "<td>moldulo (remainder of integer division)</td>\n",
      "</tr>\n",
      "<tr>\n",
      "<td>==</td>\n",
      "<td>equal to (do not mix up with =)</td>\n",
      "</tr>\n",
      "<tr>\n",
      "<td>!=</td>\n",
      "<td>not equal</td>\n",
      "</tr>\n",
      "<tr>\n",
      "<td>></td>\n",
      "<td>greater than</td>\n",
      "</tr>\n",
      "<tr>\n",
      "<td>&lt;</td>\n",
      "<td>smaller than</td>\n",
      "</tr>\n",
      "<tr>\n",
      "<td>>=</td>\n",
      "<td>greater than or equal to</td>\n",
      "</tr>\n",
      "<tr>\n",
      "<td>&lt;=</td>\n",
      "<td>smaller than or equale to</td>\n",
      "</tr>\n",
      "</table>\n",
      "\n",
      "If you want more complex operations (e.g. `sin`, `sqrt`, `log`), you\u2019ll need to use `math` or `numpy`. More on that later.\n"
     ]
    },
    {
     "cell_type": "markdown",
     "metadata": {},
     "source": [
      "### Operators precedence\n",
      "\n",
      "The priority between operators is the same as you\u2019d expect mathematically. From highest to lowest precedence:\n",
      "\n",
      "<table>\n",
      "<tr>\n",
      "<th>Operator</th>\n",
      "<th>Operation</th>\n",
      "</tr>\n",
      "<tr>\n",
      "<td>()</td>\n",
      "<td>Terms in backets</td>\n",
      "</tr>\n",
      "<tr>\n",
      "<td>**</td>\n",
      "<td>Exponentiation</td>\n",
      "</tr>\n",
      "<tr>\n",
      "<td>+x, -x</td>\n",
      "<td>Unary plus and minus</td>\n",
      "</tr>\n",
      "<tr>\n",
      "<td>*, /, %</td>\n",
      "<td>Multiply, divide, modulo</td>\n",
      "</tr>\n",
      "<tr>\n",
      "<td>+, -</td>\n",
      "<td>Addition and subtraction</td>\n",
      "</tr>\n",
      "<tr>\n",
      "<td>&lt;=, &lt;, >, >=</td>\n",
      "<td>Comparison operators</td>\n",
      "</tr>\n",
      "<tr>\n",
      "<td>==, !=</td>\n",
      "<td>Equality operators</td>\n",
      "</tr>\n",
      "<tr>\n",
      "<td>not, or, and</td>\n",
      "<td>Logical operators</td>\n",
      "</tr>\n",
      "</table>\n",
      "\n",
      "There are other operators that you will encounter later, check the Python Library Reference for the complete precedence table.\n"
     ]
    },
    {
     "cell_type": "markdown",
     "metadata": {},
     "source": [
      "### Variables\n",
      "\n",
      "* a variable are how values are stored in a computer\n",
      "* a variable can be a number, a character, a collection of numbers, etc.\n",
      "* the equal sign (`=`) is used to assign a value to a variable (again, be careful to not confuse with testing for equality `==`)\n",
      "\n"
     ]
    },
    {
     "cell_type": "code",
     "collapsed": false,
     "input": [
      "width = 20\n",
      "pi = 3.14\n",
      "message = 'I have a bad feeling about this'"
     ],
     "language": "python",
     "metadata": {},
     "outputs": [],
     "prompt_number": 61
    },
    {
     "cell_type": "markdown",
     "metadata": {},
     "source": [
      "A value can be assigned to several variables simultaneously:\n"
     ]
    },
    {
     "cell_type": "code",
     "collapsed": false,
     "input": [
      "x = y = z= 20\n",
      "x"
     ],
     "language": "python",
     "metadata": {},
     "outputs": [
      {
       "output_type": "pyout",
       "prompt_number": 6,
       "text": [
        "20"
       ]
      }
     ],
     "prompt_number": 6
    },
    {
     "cell_type": "code",
     "collapsed": false,
     "input": [
      "y"
     ],
     "language": "python",
     "metadata": {},
     "outputs": [
      {
       "output_type": "pyout",
       "prompt_number": 7,
       "text": [
        "20"
       ]
      }
     ],
     "prompt_number": 7
    },
    {
     "cell_type": "code",
     "collapsed": false,
     "input": [
      "z"
     ],
     "language": "python",
     "metadata": {},
     "outputs": [
      {
       "output_type": "pyout",
       "prompt_number": 8,
       "text": [
        "20"
       ]
      }
     ],
     "prompt_number": 8
    },
    {
     "cell_type": "markdown",
     "metadata": {},
     "source": [
      "Variables must be \u201cdefined\u201d (assigned a value) before they can be used, or an error will occur:\n"
     ]
    },
    {
     "cell_type": "code",
     "collapsed": false,
     "input": [
      "n"
     ],
     "language": "python",
     "metadata": {},
     "outputs": [
      {
       "ename": "NameError",
       "evalue": "name 'n' is not defined",
       "output_type": "pyerr",
       "traceback": [
        "\u001b[1;31m---------------------------------------------------------------------------\u001b[0m\n\u001b[1;31mNameError\u001b[0m                                 Traceback (most recent call last)",
        "\u001b[1;32m<ipython-input-9-fe13119fb084>\u001b[0m in \u001b[0;36m<module>\u001b[1;34m()\u001b[0m\n\u001b[1;32m----> 1\u001b[1;33m \u001b[0mn\u001b[0m\u001b[1;33m\u001b[0m\u001b[0m\n\u001b[0m",
        "\u001b[1;31mNameError\u001b[0m: name 'n' is not defined"
       ]
      }
     ],
     "prompt_number": 9
    },
    {
     "cell_type": "markdown",
     "metadata": {},
     "source": [
      "Variables are manipulated and combined with operators, forming \u201cexpressions\u201d."
     ]
    },
    {
     "cell_type": "code",
     "collapsed": false,
     "input": [
      "width = 20\n",
      "height = 5\n",
      "width * height"
     ],
     "language": "python",
     "metadata": {},
     "outputs": [
      {
       "output_type": "pyout",
       "prompt_number": 5,
       "text": [
        "100"
       ]
      }
     ],
     "prompt_number": 5
    },
    {
     "cell_type": "markdown",
     "metadata": {},
     "source": [
      "### Functions\n",
      "\n",
      "More complex operations are provided by functions. For example, the absolute value of a number:\n"
     ]
    },
    {
     "cell_type": "code",
     "collapsed": false,
     "input": [
      "abs(-3)"
     ],
     "language": "python",
     "metadata": {},
     "outputs": [
      {
       "output_type": "pyout",
       "prompt_number": 62,
       "text": [
        "3"
       ]
      }
     ],
     "prompt_number": 62
    },
    {
     "cell_type": "markdown",
     "metadata": {},
     "source": [
      "* `abs()` is an example of a function.\n",
      "* Functions have a name (here \u201c`abs`\u201d), followed by parentheses. They can take some input (here a number), do something with them and create some output (here it returns the absolute value of the number).\n",
      "    * Their name should usually be self-explanatory. \n",
      "    * But you can type `help(abs)` or `abs?` to see what any function does exactly.\n",
      "* They form the fundamental basis of any imperative programming language.\n",
      "    * Just think of them as providing you with advanced functionalities for free for now.\n",
      "    * We will cover more about functions later on.\n"
     ]
    },
    {
     "cell_type": "markdown",
     "metadata": {},
     "source": [
      "### Errors\n",
      "#### Syntax errors\n",
      "\n",
      "If you type something into the pythonmistake and python can\u2019t understand then that\u2019s a syntax error.\n",
      "\n",
      "* Making mistakes like this is normal. It doesn\u2019t mean that you are dumb or that the computer is dumb.\n",
      "* Computers are more precise than humans. When you make a mistake like this, you have to fix it.\n",
      "* You will learn how to look at an error message and figure out what the mistake is. This is a valuable skill."
     ]
    },
    {
     "cell_type": "code",
     "collapsed": false,
     "input": [
      "n = 50 - 5*6)/4\n"
     ],
     "language": "python",
     "metadata": {},
     "outputs": [
      {
       "ename": "SyntaxError",
       "evalue": "invalid syntax (<ipython-input-63-af371d7d80f2>, line 1)",
       "output_type": "pyerr",
       "traceback": [
        "\u001b[1;36m  File \u001b[1;32m\"<ipython-input-63-af371d7d80f2>\"\u001b[1;36m, line \u001b[1;32m1\u001b[0m\n\u001b[1;33m    n = 50 - 5*6)/4\u001b[0m\n\u001b[1;37m                ^\u001b[0m\n\u001b[1;31mSyntaxError\u001b[0m\u001b[1;31m:\u001b[0m invalid syntax\n"
       ]
      }
     ],
     "prompt_number": 63
    },
    {
     "cell_type": "markdown",
     "metadata": {},
     "source": [
      "* On the first line of python\u2019s output, it says the file and line number where the mistake is.\n",
      "* On the second and third line, python prints the part of the line where the mistake is and a `^` under the mistake.\n",
      "* The last line tells us what type of mistake it is: invalid syntax means the code you wrote is not proper \u2018grammar\u2019 in the python language."
     ]
    },
    {
     "cell_type": "markdown",
     "metadata": {},
     "source": [
      "#### runtime error \n",
      "\n",
      "Sometimes the grammar of your code is right and python knows what it should do, but you\u2019ve asked it to do something impossible. This is called a runtime error.\n"
     ]
    },
    {
     "cell_type": "code",
     "collapsed": false,
     "input": [
      "n = 0\n",
      "1 / n"
     ],
     "language": "python",
     "metadata": {},
     "outputs": [
      {
       "ename": "ZeroDivisionError",
       "evalue": "integer division or modulo by zero",
       "output_type": "pyerr",
       "traceback": [
        "\u001b[1;31m---------------------------------------------------------------------------\u001b[0m\n\u001b[1;31mZeroDivisionError\u001b[0m                         Traceback (most recent call last)",
        "\u001b[1;32m<ipython-input-64-158600a3143e>\u001b[0m in \u001b[0;36m<module>\u001b[1;34m()\u001b[0m\n\u001b[0;32m      1\u001b[0m \u001b[0mn\u001b[0m \u001b[1;33m=\u001b[0m \u001b[1;36m0\u001b[0m\u001b[1;33m\u001b[0m\u001b[0m\n\u001b[1;32m----> 2\u001b[1;33m \u001b[1;36m1\u001b[0m \u001b[1;33m/\u001b[0m \u001b[0mn\u001b[0m\u001b[1;33m\u001b[0m\u001b[0m\n\u001b[0m",
        "\u001b[1;31mZeroDivisionError\u001b[0m: integer division or modulo by zero"
       ]
      }
     ],
     "prompt_number": 64
    },
    {
     "cell_type": "markdown",
     "metadata": {},
     "source": [
      "* In this example, we\u2019ve asked python to divide one by zero, which is impossible. The error message let\u2019s us know what went wrong.\n",
      "* The first line says the file and line where the impossible command was.\n",
      "* The second line says the impossible command.\n",
      "\n",
      "#### logic error\n",
      "* Sometimes code is grammatically correct, but it doesn\u2019t do what you want. This is called a logic error.\n",
      "* As long as it\u2019s not impossible to do what your code says, python will do it anyway even though it\u2019s not what you want (how would Python know?)\n",
      "8 In the example below, the programmer wanted the variable `even_number` to contain an even number, and the variable `zero` to contain the number 0."
     ]
    },
    {
     "cell_type": "code",
     "collapsed": false,
     "input": [
      "even_number = 57\n",
      "sample_size = '20'"
     ],
     "language": "python",
     "metadata": {},
     "outputs": [],
     "prompt_number": 65
    },
    {
     "cell_type": "markdown",
     "metadata": {},
     "source": [
      "#### Summary of errors\n",
      "\n",
      "* **Syntax error**: your code is not \u2018grammatically\u2019 correct\n",
      "* **Runtime error**: you\u2019ve asked python to do something impossible\n",
      "* **Logic errors**: your code doesn\u2019t actually mean what you think it should.\n",
      "\n",
      "Errors in code are called bugs, and getting rid of them is called debugging. We will teach you how to debug throughout the course.\n",
      "\n"
     ]
    },
    {
     "cell_type": "markdown",
     "metadata": {},
     "source": [
      "### Variables\n",
      "\n",
      "Variables in Python are \u201ctyped\u201d. Every variable has a given type, which you can check by writing `type(varname)`.\n",
      "\n"
     ]
    },
    {
     "cell_type": "code",
     "collapsed": false,
     "input": [
      "a = 10\n",
      "b = 20.0\n",
      "c = \"It's just a flesh wound!\"\n",
      "type(a)"
     ],
     "language": "python",
     "metadata": {},
     "outputs": [
      {
       "output_type": "pyout",
       "prompt_number": 67,
       "text": [
        "int"
       ]
      }
     ],
     "prompt_number": 67
    },
    {
     "cell_type": "code",
     "collapsed": false,
     "input": [
      "type(b)"
     ],
     "language": "python",
     "metadata": {},
     "outputs": [
      {
       "output_type": "pyout",
       "prompt_number": 68,
       "text": [
        "float"
       ]
      }
     ],
     "prompt_number": 68
    },
    {
     "cell_type": "code",
     "collapsed": false,
     "input": [
      "type(c)"
     ],
     "language": "python",
     "metadata": {},
     "outputs": [
      {
       "output_type": "pyout",
       "prompt_number": 69,
       "text": [
        "str"
       ]
      }
     ],
     "prompt_number": 69
    },
    {
     "cell_type": "markdown",
     "metadata": {},
     "source": [
      "Directly combining variables of different types usually creates a `TypeError`. Python can  automatically convert some of them, e.g. `int` to `float`. \n",
      "(Python is dynamically strongly typed)\n"
     ]
    },
    {
     "cell_type": "code",
     "collapsed": false,
     "input": [
      "a / b"
     ],
     "language": "python",
     "metadata": {},
     "outputs": [
      {
       "output_type": "pyout",
       "prompt_number": 70,
       "text": [
        "0.5"
       ]
      }
     ],
     "prompt_number": 70
    },
    {
     "cell_type": "code",
     "collapsed": false,
     "input": [
      "a + c"
     ],
     "language": "python",
     "metadata": {},
     "outputs": [
      {
       "ename": "TypeError",
       "evalue": "unsupported operand type(s) for +: 'int' and 'str'",
       "output_type": "pyerr",
       "traceback": [
        "\u001b[1;31m---------------------------------------------------------------------------\u001b[0m\n\u001b[1;31mTypeError\u001b[0m                                 Traceback (most recent call last)",
        "\u001b[1;32m<ipython-input-71-ca57d551b7f3>\u001b[0m in \u001b[0;36m<module>\u001b[1;34m()\u001b[0m\n\u001b[1;32m----> 1\u001b[1;33m \u001b[0ma\u001b[0m \u001b[1;33m+\u001b[0m \u001b[0mc\u001b[0m\u001b[1;33m\u001b[0m\u001b[0m\n\u001b[0m",
        "\u001b[1;31mTypeError\u001b[0m: unsupported operand type(s) for +: 'int' and 'str'"
       ]
      }
     ],
     "prompt_number": 71
    },
    {
     "cell_type": "markdown",
     "metadata": {},
     "source": [
      "### Modules in Python\n",
      "\n",
      "* Module is a collection of definitions.\n",
      "* In order to use modules in your script or interpreter, you need to import them, e.g.:\n"
     ]
    },
    {
     "cell_type": "code",
     "collapsed": false,
     "input": [
      "import math"
     ],
     "language": "python",
     "metadata": {},
     "outputs": [],
     "prompt_number": 10
    },
    {
     "cell_type": "markdown",
     "metadata": {},
     "source": [
      "Functions of imported modules can be accessed with a `.`, such as:"
     ]
    },
    {
     "cell_type": "code",
     "collapsed": false,
     "input": [
      "math.sqrt(3)"
     ],
     "language": "python",
     "metadata": {},
     "outputs": [
      {
       "output_type": "pyout",
       "prompt_number": 33,
       "text": [
        "1.7320508075688772"
       ]
      }
     ],
     "prompt_number": 33
    },
    {
     "cell_type": "markdown",
     "metadata": {},
     "source": [
      "You can import specific definitions from a module, e.g.:"
     ]
    },
    {
     "cell_type": "code",
     "collapsed": false,
     "input": [
      "from math import sqrt\n",
      "sqrt(5)"
     ],
     "language": "python",
     "metadata": {},
     "outputs": [
      {
       "output_type": "pyout",
       "prompt_number": 11,
       "text": [
        "2.23606797749979"
       ]
      }
     ],
     "prompt_number": 11
    },
    {
     "cell_type": "markdown",
     "metadata": {},
     "source": [
      "You can also import all the definitions from a specific module, e.g.:\n"
     ]
    },
    {
     "cell_type": "code",
     "collapsed": false,
     "input": [
      "from math import *\n"
     ],
     "language": "python",
     "metadata": {},
     "outputs": [],
     "prompt_number": 12
    },
    {
     "cell_type": "markdown",
     "metadata": {},
     "source": [
      "**This way is**, however, **disencouraged** because it clutters your namespace (an exception might be build-in modules, like math). If two modules that you import have a function that has the same name, you cannot be sure which function you are calling, nor can readers of your code! As an example:"
     ]
    },
    {
     "cell_type": "code",
     "collapsed": false,
     "input": [
      "help(sqrt)"
     ],
     "language": "python",
     "metadata": {},
     "outputs": [
      {
       "output_type": "stream",
       "stream": "stdout",
       "text": [
        "Help on built-in function sqrt in module math:\n",
        "\n",
        "sqrt(...)\n",
        "    sqrt(x)\n",
        "    \n",
        "    Return the square root of x.\n",
        "\n"
       ]
      }
     ],
     "prompt_number": 15
    },
    {
     "cell_type": "markdown",
     "metadata": {},
     "source": [
      "If we import the `numpy` package which comes with a `sqrt()` function as well, we overwrite the old definition:"
     ]
    },
    {
     "cell_type": "code",
     "collapsed": false,
     "input": [
      "from numpy import *"
     ],
     "language": "python",
     "metadata": {},
     "outputs": [],
     "prompt_number": 16
    },
    {
     "cell_type": "code",
     "collapsed": false,
     "input": [
      "sqrt?"
     ],
     "language": "python",
     "metadata": {},
     "outputs": [],
     "prompt_number": 31
    },
    {
     "cell_type": "markdown",
     "metadata": {},
     "source": [
      "If you do not want to write out module names to access their functions, you can import an entire module by importing it with an alias. A better way of importing the `numpy` module is:"
     ]
    },
    {
     "cell_type": "code",
     "collapsed": false,
     "input": [
      "import numpy as np\n",
      "from math import *"
     ],
     "language": "python",
     "metadata": {},
     "outputs": [],
     "prompt_number": 27
    },
    {
     "cell_type": "code",
     "collapsed": false,
     "input": [
      "sqrt?"
     ],
     "language": "python",
     "metadata": {},
     "outputs": [],
     "prompt_number": 29
    },
    {
     "cell_type": "code",
     "collapsed": false,
     "input": [
      "np.sqrt?"
     ],
     "language": "python",
     "metadata": {},
     "outputs": [],
     "prompt_number": 30
    },
    {
     "cell_type": "markdown",
     "metadata": {},
     "source": [
      "####Exercises\n",
      " \n",
      "Write formulae to convert:\n",
      "\n",
      "1. temperature from Celcius to Farenheit\n",
      "1. weight from pounds into kilograms.\n"
     ]
    },
    {
     "cell_type": "code",
     "collapsed": false,
     "input": [
      "celcius = 37\n",
      "fahrenheit = celcius  * (9.0/5) + 32\n",
      "fahrenheit"
     ],
     "language": "python",
     "metadata": {},
     "outputs": [
      {
       "output_type": "pyout",
       "prompt_number": 36,
       "text": [
        "98.60000000000001"
       ]
      }
     ],
     "prompt_number": 36
    },
    {
     "cell_type": "code",
     "collapsed": false,
     "input": [
      "lb = 77.161\n",
      "kg = lb / 2.2046\n",
      "kg"
     ],
     "language": "python",
     "metadata": {},
     "outputs": [
      {
       "output_type": "pyout",
       "prompt_number": 41,
       "text": [
        "35.0"
       ]
      }
     ],
     "prompt_number": 41
    },
    {
     "cell_type": "markdown",
     "metadata": {},
     "source": [
      "### Strings\n",
      "\n",
      "* a string is a sequence of characters\n",
      "* strings must be enclosed in quotes (to distinguish them from variable names)\n",
      "* certain characters must be escaped by backlashes, e.g. `\"\\ \"`\n"
     ]
    },
    {
     "cell_type": "code",
     "collapsed": false,
     "input": [
      "\"doesn\\'t\""
     ],
     "language": "python",
     "metadata": {},
     "outputs": [
      {
       "output_type": "pyout",
       "prompt_number": 42,
       "text": [
        "\"doesn't\""
       ]
      }
     ],
     "prompt_number": 42
    },
    {
     "cell_type": "markdown",
     "metadata": {},
     "source": [
      "certain characters are \"invisible\", e.g. use `\"\\n\"` to indicate the end of a line"
     ]
    },
    {
     "cell_type": "markdown",
     "metadata": {},
     "source": [
      "### Strings and print\n",
      "\n",
      "The `print` statement produces a more readable output for strings, e.g."
     ]
    },
    {
     "cell_type": "code",
     "collapsed": false,
     "input": [
      "hello = \"This is a rather long string containing\\n several lines of text just as you would do in C. \\n         Whitespace at beginning of the line is  significant.\"\n",
      "print hello"
     ],
     "language": "python",
     "metadata": {},
     "outputs": [
      {
       "output_type": "stream",
       "stream": "stdout",
       "text": [
        "This is a rather long string containing\n",
        " several lines of text just as you would do in C. \n",
        "         Whitespace at beginning of the line is  significant.\n"
       ]
      }
     ],
     "prompt_number": 48
    },
    {
     "cell_type": "markdown",
     "metadata": {},
     "source": [
      "* spaces are also characters:"
     ]
    },
    {
     "cell_type": "code",
     "collapsed": false,
     "input": [
      "a = \"dorota\"\n",
      "len(a)"
     ],
     "language": "python",
     "metadata": {},
     "outputs": [
      {
       "output_type": "pyout",
       "prompt_number": 50,
       "text": [
        "6"
       ]
      }
     ],
     "prompt_number": 50
    },
    {
     "cell_type": "code",
     "collapsed": false,
     "input": [
      "b = \"dorota \"\n",
      "len(b)"
     ],
     "language": "python",
     "metadata": {},
     "outputs": [
      {
       "output_type": "pyout",
       "prompt_number": 52,
       "text": [
        "7"
       ]
      }
     ],
     "prompt_number": 52
    },
    {
     "cell_type": "markdown",
     "metadata": {},
     "source": [
      "* two (or more) strings can be merged into one by using \u201d+\":"
     ]
    },
    {
     "cell_type": "code",
     "collapsed": false,
     "input": [
      "b + a"
     ],
     "language": "python",
     "metadata": {},
     "outputs": [
      {
       "output_type": "pyout",
       "prompt_number": 53,
       "text": [
        "'dorota dorota'"
       ]
      }
     ],
     "prompt_number": 53
    },
    {
     "cell_type": "markdown",
     "metadata": {},
     "source": [
      "* elements of a strings can be subscripted (indexed)\n",
      "* the first character of a string has subscript (index) 0\n"
     ]
    },
    {
     "cell_type": "code",
     "collapsed": false,
     "input": [
      "word = 'Help'\n",
      "word[1]"
     ],
     "language": "python",
     "metadata": {},
     "outputs": [
      {
       "output_type": "pyout",
       "prompt_number": 54,
       "text": [
        "'e'"
       ]
      }
     ],
     "prompt_number": 54
    },
    {
     "cell_type": "markdown",
     "metadata": {},
     "source": [
      "* substrings can be specified with the slice notation: two indices separated by a colon\n",
      "* the first index is inclusive, the terminating second index is exclusive"
     ]
    },
    {
     "cell_type": "code",
     "collapsed": false,
     "input": [
      "word[0:2]"
     ],
     "language": "python",
     "metadata": {},
     "outputs": [
      {
       "output_type": "pyout",
       "prompt_number": 55,
       "text": [
        "'He'"
       ]
      }
     ],
     "prompt_number": 55
    },
    {
     "cell_type": "markdown",
     "metadata": {},
     "source": [
      "* indices may be negative numbers, to start counting from the right:\n"
     ]
    },
    {
     "cell_type": "code",
     "collapsed": false,
     "input": [
      "word[-2]"
     ],
     "language": "python",
     "metadata": {},
     "outputs": [
      {
       "output_type": "pyout",
       "prompt_number": 56,
       "text": [
        "'l'"
       ]
      }
     ],
     "prompt_number": 56
    },
    {
     "cell_type": "markdown",
     "metadata": {},
     "source": [
      "Omitting a slice index means \"start from beginning\" or \"end with (inlcuding) the last index\":"
     ]
    },
    {
     "cell_type": "code",
     "collapsed": false,
     "input": [
      "word[-2:]"
     ],
     "language": "python",
     "metadata": {},
     "outputs": [
      {
       "output_type": "pyout",
       "prompt_number": 57,
       "text": [
        "'lp'"
       ]
      }
     ],
     "prompt_number": 57
    },
    {
     "cell_type": "code",
     "collapsed": false,
     "input": [
      "word[:-2]"
     ],
     "language": "python",
     "metadata": {},
     "outputs": [
      {
       "output_type": "pyout",
       "prompt_number": 58,
       "text": [
        "'He'"
       ]
      }
     ],
     "prompt_number": 58
    },
    {
     "cell_type": "markdown",
     "metadata": {},
     "source": [
      "Python strings cannot be changed - assigning to an indexed position in the string results in an error:"
     ]
    },
    {
     "cell_type": "code",
     "collapsed": false,
     "input": [
      "word[0] = 'x'"
     ],
     "language": "python",
     "metadata": {},
     "outputs": [
      {
       "ename": "TypeError",
       "evalue": "'str' object does not support item assignment",
       "output_type": "pyerr",
       "traceback": [
        "\u001b[1;31m---------------------------------------------------------------------------\u001b[0m\n\u001b[1;31mTypeError\u001b[0m                                 Traceback (most recent call last)",
        "\u001b[1;32m<ipython-input-59-d89b9f9f38d7>\u001b[0m in \u001b[0;36m<module>\u001b[1;34m()\u001b[0m\n\u001b[1;32m----> 1\u001b[1;33m \u001b[0mword\u001b[0m\u001b[1;33m[\u001b[0m\u001b[1;36m0\u001b[0m\u001b[1;33m]\u001b[0m \u001b[1;33m=\u001b[0m \u001b[1;34m'x'\u001b[0m\u001b[1;33m\u001b[0m\u001b[0m\n\u001b[0m",
        "\u001b[1;31mTypeError\u001b[0m: 'str' object does not support item assignment"
       ]
      }
     ],
     "prompt_number": 59
    },
    {
     "cell_type": "markdown",
     "metadata": {},
     "source": [
      "### Lists\n",
      "\n",
      "#### What are Lists?\n",
      "\n",
      "Compound data type used to group together other values"
     ]
    },
    {
     "cell_type": "code",
     "collapsed": false,
     "input": [
      "list1 = [\"first\", \"second\", \"third\"]\n",
      "list2 = [1, 2, 3]\n",
      "list3 = [\"pi\", 3.1415926, \"answer\", 42]\n",
      "emptyList = []"
     ],
     "language": "python",
     "metadata": {},
     "outputs": [],
     "prompt_number": 60
    },
    {
     "cell_type": "markdown",
     "metadata": {},
     "source": [
      "* Values don\u2019t have to be of the same type\n",
      "* Lists can be modified after creation (they are *mutable* )\n",
      "* Elements can be changed, added, and deleted\n",
      "* Lists are versatile and are used extensively in typical Python code\n"
     ]
    },
    {
     "cell_type": "code",
     "collapsed": false,
     "input": [],
     "language": "python",
     "metadata": {},
     "outputs": []
    }
   ],
   "metadata": {}
  }
 ]
}