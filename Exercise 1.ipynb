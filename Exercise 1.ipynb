{
 "metadata": {
  "name": "Execise 1"
 },
 "nbformat": 3,
 "nbformat_minor": 0,
 "worksheets": [
  {
   "cells": [
    {
     "cell_type": "markdown",
     "metadata": {},
     "source": [
      "# Problem 1. Setup\n",
      "\n",
      "Create a new folder where you\u2019ll put all the answers to this assignment. Call the folder \u201cassignment1\u201d. You should create a python script for each problem in this assignment.\n",
      "\n",
      "There are two ways of developing in python:\n",
      "\n",
      "## Traditional Way Using Text Files\n",
      "In this way you write your code in a text file (with ending .py) and exectute this file from the terminal or from within the IPython interpreter.\n",
      "\n",
      "You need to use a text editor like Sublime Text 2 to make sure your files have exactly what you want in them. If you\u2019ve never used a text editor before, feel free to ask us for help. Sublime Text 2 is powerful and it shouldn\u2019t be too hard to use. It has many advanced features like automatic indenting and syntax highlighting which will help you on the long run. Some of the more advanced features are listed on this website if you are interested: [http://net.tutsplus.\n",
      "com/tutorials/tools-and-tips/sublime-text-2-tips-and-tricks/](http://net.tutsplus.\n",
      "com/tutorials/tools-and-tips/sublime-text-2-tips-and-tricks/)\n",
      "\n",
      "## Prototyping Using IPython Notebook\n",
      "In this way, you develop in the cells of an IPython notebook (the interface that is used to present this tutorial, and what this file is.)\n",
      "\n",
      "You do not need to set up anything special, if you have the Enthought Canapy distribution installed.\n",
      "\n"
     ]
    },
    {
     "cell_type": "code",
     "collapsed": false,
     "input": [],
     "language": "python",
     "metadata": {},
     "outputs": []
    }
   ],
   "metadata": {}
  }
 ]
}